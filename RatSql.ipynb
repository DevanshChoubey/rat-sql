{
  "nbformat": 4,
  "nbformat_minor": 0,
  "metadata": {
    "colab": {
      "name": "RatSql",
      "provenance": [],
      "mount_file_id": "1Ve8_7eWKnGQmIVJpgQWCdNXaA8ddyorA",
      "authorship_tag": "ABX9TyMp3UePcLqAVUSMqGvRaZZX",
      "include_colab_link": true
    },
    "kernelspec": {
      "name": "python3",
      "display_name": "Python 3"
    },
    "accelerator": "GPU"
  },
  "cells": [
    {
      "cell_type": "markdown",
      "metadata": {
        "id": "view-in-github",
        "colab_type": "text"
      },
      "source": [
        "<a href=\"https://colab.research.google.com/github/DevanshChoubey/rat-sql/blob/master/RatSql.ipynb\" target=\"_parent\"><img src=\"https://colab.research.google.com/assets/colab-badge.svg\" alt=\"Open In Colab\"/></a>"
      ]
    },
    {
      "cell_type": "code",
      "metadata": {
        "id": "AEkl2EpYTc9L"
      },
      "source": [
        "\n",
        "import os \n",
        "os.chdir(\"/content/rat-sql\")"
      ],
      "execution_count": null,
      "outputs": []
    },
    {
      "cell_type": "code",
      "metadata": {
        "id": "qJfgefHivVgB"
      },
      "source": [
        "!git clone https://github.com/microsoft/rat-sql"
      ],
      "execution_count": null,
      "outputs": []
    },
    {
      "cell_type": "code",
      "metadata": {
        "id": "pIfTU2gtmn1M"
      },
      "source": [
        "%%bash\n",
        "MINICONDA_INSTALLER_SCRIPT=Miniconda3-4.5.12-Linux-x86_64.sh\n",
        "MINICONDA_PREFIX=/usr/local\n",
        "wget https://repo.continuum.io/miniconda/$MINICONDA_INSTALLER_SCRIPT\n",
        "chmod +x $MINICONDA_INSTALLER_SCRIPT\n",
        "./$MINICONDA_INSTALLER_SCRIPT -b -f -p $MINICONDA_PREFIX"
      ],
      "execution_count": null,
      "outputs": []
    },
    {
      "cell_type": "code",
      "metadata": {
        "colab": {
          "base_uri": "https://localhost:8080/"
        },
        "id": "0WxuoULrN_4U",
        "outputId": "9a67a8fa-5871-4eaf-e2bb-2810ff066e20"
      },
      "source": [
        "!python --version\r\n",
        "!pip install torch==1.6.0+cu101 torchvision==0.7.0+cu101 -f https://download.pytorch.org/whl/torch_stable.html"
      ],
      "execution_count": null,
      "outputs": [
        {
          "output_type": "stream",
          "text": [
            "Python 3.7.1\n"
          ],
          "name": "stdout"
        }
      ]
    },
    {
      "cell_type": "code",
      "metadata": {
        "id": "6djwxKNnvgnT"
      },
      "source": [
        "import os\n",
        "os.chdir(\"/content/rat-sql\")\n",
        "!mkdir -p third_party\n",
        "!git clone https://github.com/salesforce/WikiSQL third_party/wikisql\n",
        "!gdown https://drive.google.com/uc?id=109s_s_2FWZ9uGBkNc5gPSo2cIF5WW7IS\n",
        "!mkdir data\n",
        "!tar -xvf spider.tar.gz -C data\n",
        "#!curl https://nlp.stanford.edu/software/stanford-corenlp-full-2018-10-05.zip | jar xv\n",
        "!cp -r /content/rat-sql/third_party/wikisql/lib /content/rat-sql"
      ],
      "execution_count": null,
      "outputs": []
    },
    {
      "cell_type": "markdown",
      "metadata": {
        "id": "IDopp5nfSj8N"
      },
      "source": [
        ""
      ]
    },
    {
      "cell_type": "code",
      "metadata": {
        "id": "VJ38_Dx6SlS3"
      },
      "source": [
        "!cp -r /content/rat-sql/third_party/wikisql/lib /content/rat-sql"
      ],
      "execution_count": null,
      "outputs": []
    },
    {
      "cell_type": "code",
      "metadata": {
        "id": "u6VlJtYPwA9i"
      },
      "source": [
        "#!pip install jsonnet torchtext transformers babel records asdl astor attrs bpemb networkx pyrsistent nltk stanford-corenlp entmax\n",
        "import nltk\n",
        "nltk.download('stopwords')\n",
        "#!export PYTHONPATH=third_party/wikisql/:$PYTHONPATH\n",
        "#!export $CORENLP_HOME=/content/rat-sql/third_party/stanford-corenlp-full-2018-10-05\n",
        "\n",
        "#export PYTHONPATH=/root/rat-sql/third_party/wikisql/:$PYTHONPATH"
      ],
      "execution_count": null,
      "outputs": []
    },
    {
      "cell_type": "code",
      "metadata": {
        "id": "hWmhy1J1m-ja"
      },
      "source": [
        "!pip install jsonnet~=0.14.0 transformers babel records asdl astor attrs bpemb networkx pyrsistent nltk stanford-corenlp~=3.9.2\r\n",
        "!pip install entmax\r\n",
        "import nltk\r\n",
        "nltk.download('stopwords')\r\n",
        "nltk.download('punkt')\r\n",
        "!pip install torchtext==0.7"
      ],
      "execution_count": null,
      "outputs": []
    },
    {
      "cell_type": "code",
      "metadata": {
        "id": "Amzbsj6KUUMt"
      },
      "source": [
        "!mkdir logdir\n",
        "!mkdir logdir/bs=3,lr=7.4e-04,bert_lr=3.0e-06,end_lr=0e0,att=1"
      ],
      "execution_count": null,
      "outputs": []
    },
    {
      "cell_type": "code",
      "metadata": {
        "id": "MsdEfOc_njpr"
      },
      "source": [
        ""
      ],
      "execution_count": null,
      "outputs": []
    },
    {
      "cell_type": "code",
      "metadata": {
        "id": "nPXvcaeG7yij"
      },
      "source": [
        "import time\n",
        "while True:\n",
        "  time.sleep(300)\n",
        "  print(\"seep\")"
      ],
      "execution_count": null,
      "outputs": []
    },
    {
      "cell_type": "code",
      "metadata": {
        "id": "ocfeWD1vfTtp"
      },
      "source": [
        "!python run.py train experiments/spider-bert-run.jsonnet"
      ],
      "execution_count": null,
      "outputs": []
    },
    {
      "cell_type": "code",
      "metadata": {
        "id": "Cy0IU-926NI_"
      },
      "source": [
        "import json\n",
        "res_json = json.load(open(\"/content/rat-sql/logdir/bs=3,lr=7.4e-04,bert_lr=3.0e-06,end_lr=0e0,att=1/ie_dirs/bert_run_true_1-step63100.eval\"))\n",
        "print( res_json['total_scores']['all']['exact'])\n"
      ],
      "execution_count": null,
      "outputs": []
    },
    {
      "cell_type": "code",
      "metadata": {
        "id": "cLVrzy_wwEJu",
        "colab": {
          "base_uri": "https://localhost:8080/"
        },
        "outputId": "3977e48e-b939-4e4b-8d65-065d25429c58"
      },
      "source": [
        "!python run.py eval experiments/spider-bert-run.jsonnet "
      ],
      "execution_count": null,
      "outputs": [
        {
          "output_type": "stream",
          "text": [
            "WARNING <class 'ratsql.models.enc_dec.EncDecModel.Preproc'>: superfluous {'name': 'EncDec'}\n",
            "WARNING <class 'ratsql.models.enc_dec.EncDecModel'>: superfluous {'decoder_preproc': {'grammar': {'clause_order': None, 'end_with_from': True, 'factorize_sketch': 2, 'include_literals': False, 'infer_from_conditions': True, 'name': 'spider', 'output_from': True, 'use_table_pointer': True}, 'save_path': 'data/spider/nl2code,output_from=true,fs=2,emb=bert,cvlink', 'use_seq_elem_rules': True}, 'encoder_preproc': {'bert_version': 'bert-large-uncased-whole-word-masking', 'compute_cv_link': True, 'compute_sc_link': True, 'db_path': 'data/spider/database', 'fix_issue_16_primary_keys': True, 'include_table_name_in_column': False, 'save_path': 'data/spider/nl2code,output_from=true,fs=2,emb=bert,cvlink'}}\n",
            "Loading model from logdir/bert_run/bs=6,lr=7.4e-04,bert_lr=3.0e-06,end_lr=0e0,att=1/model_checkpoint-00035300\n",
            "DB connections: 100% 166/166 [00:13<00:00, 12.76it/s]\n",
            "100% 1034/1034 [04:02<00:00,  4.26it/s]\n",
            "DB connections: 100% 166/166 [00:00<00:00, 371.56it/s]\n",
            "Wrote eval results to logdir/bert_run/bs=6,lr=7.4e-04,bert_lr=3.0e-06,end_lr=0e0,att=1/ie_dirs/bert_run_true_1-step26300.eval35300\n",
            "35300 0.6827852998065764\n",
            "Output file logdir/bert_run/bs=6,lr=7.4e-04,bert_lr=3.0e-06,end_lr=0e0,att=1/ie_dirs/bert_run_true_1-step26300.infer36300 already exists\n"
          ],
          "name": "stdout"
        }
      ]
    },
    {
      "cell_type": "code",
      "metadata": {
        "id": "wtpEVBjTaK0g"
      },
      "source": [
        "import json\r\n",
        "import os\r\n",
        "import _jsonnet\r\n",
        "from ratsql.commands.infer import Inferer\r\n",
        "from ratsql.datasets.spider import SpiderItem\r\n",
        "from ratsql.utils import registry\r\n",
        "\r\n",
        "exp_config = json.loads(_jsonnet.evaluate_file(\"/content/rat-sql/experiments/spider-bert-run.jsonnet\"))\r\n",
        "model_config_path = os.path.join(root_dir, exp_config[\"model_config\"])\r\n",
        "print(model_config_path)\r\n",
        "model_config_args = exp_config.get(\"model_config_args\")\r\n",
        "infer_config = json.loads(_jsonnet.evaluate_file(\"/content/rat-sql/experiments/spider-bert-run.jsonnet\", tla_codes={'args': json.dumps(model_config_args)})\r\n",
        "\r\n",
        "inferer = Inferer(infer_config)\r\n",
        "inferer.device = torch.device(\"cuda\")\r\n",
        "model = inferer.load_model(model_dir, checkpoint_step)\r\n",
        "dataset = registry.construct('dataset', inferer.config['data']['val'])\r\n",
        "\r\n",
        "for _, schema in dataset.schemas.items():\r\n",
        "    model.preproc.enc_preproc._preprocess_schema(schema)\r\n",
        "\r\n",
        "def question(q, db_id):\r\n",
        "    spider_schema = dataset.schemas[db_id]\r\n",
        "    data_item = SpiderItem(\r\n",
        "        text=None,  # intentionally None -- should be ignored when the tokenizer is set correctly\r\n",
        "        code=None,\r\n",
        "        schema=spider_schema,\r\n",
        "        orig_schema=spider_schema.orig,\r\n",
        "        orig={\"question\": q}\r\n",
        "    )\r\n",
        "    model.preproc.clear_items()\r\n",
        "    enc_input = model.preproc.enc_preproc.preprocess_item(data_item, None)\r\n",
        "    preproc_data = enc_input, None\r\n",
        "    with torch.no_grad():\r\n",
        "        return inferer._infer_one(model, data_item, preproc_data, beam_size=1, use_heuristic=True)\r\n"
      ],
      "execution_count": null,
      "outputs": []
    }
  ]
}