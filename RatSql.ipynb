{
  "nbformat": 4,
  "nbformat_minor": 0,
  "metadata": {
    "colab": {
      "name": "RatSql",
      "provenance": [],
      "mount_file_id": "1Ve8_7eWKnGQmIVJpgQWCdNXaA8ddyorA",
      "authorship_tag": "ABX9TyMAiyBsy62hisYzyLZb74Jk",
      "include_colab_link": true
    },
    "kernelspec": {
      "name": "python3",
      "display_name": "Python 3"
    },
    "accelerator": "GPU"
  },
  "cells": [
    {
      "cell_type": "markdown",
      "metadata": {
        "id": "view-in-github",
        "colab_type": "text"
      },
      "source": [
        "<a href=\"https://colab.research.google.com/github/DevanshChoubey/rat-sql/blob/master/RatSql.ipynb\" target=\"_parent\"><img src=\"https://colab.research.google.com/assets/colab-badge.svg\" alt=\"Open In Colab\"/></a>"
      ]
    },
    {
      "cell_type": "code",
      "metadata": {
        "id": "AEkl2EpYTc9L"
      },
      "source": [
        "import os \n",
        "os.chdir(\"/content\")"
      ],
      "execution_count": null,
      "outputs": []
    },
    {
      "cell_type": "code",
      "metadata": {
        "id": "qJfgefHivVgB"
      },
      "source": [
        "!git clone https://github.com/microsoft/rat-sql"
      ],
      "execution_count": null,
      "outputs": []
    },
    {
      "cell_type": "code",
      "metadata": {
        "id": "pIfTU2gtmn1M"
      },
      "source": [
        "%%bash\n",
        "MINICONDA_INSTALLER_SCRIPT=Miniconda3-4.5.12-Linux-x86_64.sh\n",
        "MINICONDA_PREFIX=/usr/local\n",
        "wget https://repo.continuum.io/miniconda/$MINICONDA_INSTALLER_SCRIPT\n",
        "chmod +x $MINICONDA_INSTALLER_SCRIPT\n",
        "./$MINICONDA_INSTALLER_SCRIPT -b -f -p $MINICONDA_PREFIX"
      ],
      "execution_count": null,
      "outputs": []
    },
    {
      "cell_type": "code",
      "metadata": {
        "colab": {
          "base_uri": "https://localhost:8080/"
        },
        "id": "0WxuoULrN_4U",
        "outputId": "9a67a8fa-5871-4eaf-e2bb-2810ff066e20"
      },
      "source": [
        "!python --version"
      ],
      "execution_count": null,
      "outputs": [
        {
          "output_type": "stream",
          "text": [
            "Python 3.7.1\n"
          ],
          "name": "stdout"
        }
      ]
    },
    {
      "cell_type": "code",
      "metadata": {
        "id": "6djwxKNnvgnT"
      },
      "source": [
        "import os\n",
        "os.chdir(\"/content/rat-sql\")\n",
        "!mkdir -p third_party\n",
        "!git clone https://github.com/salesforce/WikiSQL third_party/wikisql\n",
        "!gdown https://drive.google.com/uc?id=109s_s_2FWZ9uGBkNc5gPSo2cIF5WW7IS\n",
        "!mkdir data\n",
        "!tar -xvf spider.tar.gz -C data\n",
        "#!curl https://nlp.stanford.edu/software/stanford-corenlp-full-2018-10-05.zip | jar xv\n",
        "!cp -r /content/rat-sql/third_party/wikisql/lib /content/rat-sql"
      ],
      "execution_count": null,
      "outputs": []
    },
    {
      "cell_type": "markdown",
      "metadata": {
        "id": "IDopp5nfSj8N"
      },
      "source": [
        ""
      ]
    },
    {
      "cell_type": "code",
      "metadata": {
        "id": "VJ38_Dx6SlS3"
      },
      "source": [
        "!cp -r /content/rat-sql/third_party/wikisql/lib /content/rat-sql"
      ],
      "execution_count": null,
      "outputs": []
    },
    {
      "cell_type": "code",
      "metadata": {
        "id": "u6VlJtYPwA9i"
      },
      "source": [
        "#!pip install jsonnet torchtext transformers babel records asdl astor attrs bpemb networkx pyrsistent nltk stanford-corenlp entmax\n",
        "import nltk\n",
        "nltk.download('stopwords')\n",
        "#!export PYTHONPATH=third_party/wikisql/:$PYTHONPATH\n",
        "#!export $CORENLP_HOME=/content/rat-sql/third_party/stanford-corenlp-full-2018-10-05\n",
        "\n",
        "#export PYTHONPATH=/root/rat-sql/third_party/wikisql/:$PYTHONPATH"
      ],
      "execution_count": null,
      "outputs": []
    },
    {
      "cell_type": "code",
      "metadata": {
        "id": "hWmhy1J1m-ja"
      },
      "source": [
        "!pip install jsonnet~=0.14.0 transformers babel records asdl astor attrs bpemb networkx pyrsistent nltk stanford-corenlp~=3.9.2"
      ],
      "execution_count": null,
      "outputs": []
    },
    {
      "cell_type": "code",
      "metadata": {
        "id": "Amzbsj6KUUMt"
      },
      "source": [
        "!mkdir logdir\n",
        "!mkdir logdir/bs=3,lr=7.4e-04,bert_lr=3.0e-06,end_lr=0e0,att=1"
      ],
      "execution_count": null,
      "outputs": []
    },
    {
      "cell_type": "code",
      "metadata": {
        "id": "MsdEfOc_njpr"
      },
      "source": [
        "!pip install entmax\n",
        "import nltk\n",
        "nltk.download('stopwords')\n",
        "nltk.download('punkt')"
      ],
      "execution_count": null,
      "outputs": []
    },
    {
      "cell_type": "code",
      "metadata": {
        "id": "nPXvcaeG7yij",
        "colab": {
          "base_uri": "https://localhost:8080/",
          "height": 212
        },
        "outputId": "79210aa5-b765-46d0-d191-542ad040359e"
      },
      "source": [
        "import time\n",
        "while True:\n",
        "  time.sleep(300)\n",
        "  print(\"seep\")"
      ],
      "execution_count": null,
      "outputs": [
        {
          "output_type": "error",
          "ename": "KeyboardInterrupt",
          "evalue": "ignored",
          "traceback": [
            "\u001b[0;31m---------------------------------------------------------------------------\u001b[0m",
            "\u001b[0;31mKeyboardInterrupt\u001b[0m                         Traceback (most recent call last)",
            "\u001b[0;32m<ipython-input-17-a5497b88f919>\u001b[0m in \u001b[0;36m<module>\u001b[0;34m()\u001b[0m\n\u001b[1;32m      1\u001b[0m \u001b[0;32mimport\u001b[0m \u001b[0mtime\u001b[0m\u001b[0;34m\u001b[0m\u001b[0;34m\u001b[0m\u001b[0m\n\u001b[1;32m      2\u001b[0m \u001b[0;32mwhile\u001b[0m \u001b[0;32mTrue\u001b[0m\u001b[0;34m:\u001b[0m\u001b[0;34m\u001b[0m\u001b[0;34m\u001b[0m\u001b[0m\n\u001b[0;32m----> 3\u001b[0;31m   \u001b[0mtime\u001b[0m\u001b[0;34m.\u001b[0m\u001b[0msleep\u001b[0m\u001b[0;34m(\u001b[0m\u001b[0;36m300\u001b[0m\u001b[0;34m)\u001b[0m\u001b[0;34m\u001b[0m\u001b[0;34m\u001b[0m\u001b[0m\n\u001b[0m\u001b[1;32m      4\u001b[0m   \u001b[0mprint\u001b[0m\u001b[0;34m(\u001b[0m\u001b[0;34m\"seep\"\u001b[0m\u001b[0;34m)\u001b[0m\u001b[0;34m\u001b[0m\u001b[0;34m\u001b[0m\u001b[0m\n",
            "\u001b[0;31mKeyboardInterrupt\u001b[0m: "
          ]
        }
      ]
    },
    {
      "cell_type": "code",
      "metadata": {
        "id": "NNzgAcmfzxb7"
      },
      "source": [
        "import os\n",
        "os.chdir(\"/content/ultimatix\")\n",
        "!ls *.csv | % FullName | csv-to-sqlite -o ultimatix.sqlite\n",
        "\n"
      ],
      "execution_count": null,
      "outputs": []
    },
    {
      "cell_type": "code",
      "metadata": {
        "id": "ocfeWD1vfTtp"
      },
      "source": [
        "!python run.py train experiments/spider-bert-run.jsonnet"
      ],
      "execution_count": null,
      "outputs": []
    },
    {
      "cell_type": "code",
      "metadata": {
        "id": "Cy0IU-926NI_",
        "colab": {
          "base_uri": "https://localhost:8080/",
          "height": 33
        },
        "outputId": "16b1c7bf-3fa5-423a-8eec-99b2f6c42878"
      },
      "source": [
        "import json\n",
        "res_json = json.load(open(\"/content/rat-sql/logdir/bs=3,lr=7.4e-04,bert_lr=3.0e-06,end_lr=0e0,att=1/ie_dirs/bert_run_true_1-step63100.eval\"))\n",
        "print( res_json['total_scores']['all']['exact'])\n"
      ],
      "execution_count": null,
      "outputs": [
        {
          "output_type": "stream",
          "text": [
            "0.6025145067698259\n"
          ],
          "name": "stdout"
        }
      ]
    },
    {
      "cell_type": "code",
      "metadata": {
        "id": "4B2F-gi5_Vvu"
      },
      "source": [
        "!unzip /content/rat-sql/logdir/bs=3,lr=7.4e-04,bert_lr=3.0e-06,end_lr=0e0,att=1/spider.zip -d data"
      ],
      "execution_count": null,
      "outputs": []
    },
    {
      "cell_type": "code",
      "metadata": {
        "id": "cLVrzy_wwEJu",
        "colab": {
          "base_uri": "https://localhost:8080/"
        },
        "outputId": "3977e48e-b939-4e4b-8d65-065d25429c58"
      },
      "source": [
        "!python run.py eval experiments/spider-bert-run.jsonnet "
      ],
      "execution_count": null,
      "outputs": [
        {
          "output_type": "stream",
          "text": [
            "WARNING <class 'ratsql.models.enc_dec.EncDecModel.Preproc'>: superfluous {'name': 'EncDec'}\n",
            "WARNING <class 'ratsql.models.enc_dec.EncDecModel'>: superfluous {'decoder_preproc': {'grammar': {'clause_order': None, 'end_with_from': True, 'factorize_sketch': 2, 'include_literals': False, 'infer_from_conditions': True, 'name': 'spider', 'output_from': True, 'use_table_pointer': True}, 'save_path': 'data/spider/nl2code,output_from=true,fs=2,emb=bert,cvlink', 'use_seq_elem_rules': True}, 'encoder_preproc': {'bert_version': 'bert-large-uncased-whole-word-masking', 'compute_cv_link': True, 'compute_sc_link': True, 'db_path': 'data/spider/database', 'fix_issue_16_primary_keys': True, 'include_table_name_in_column': False, 'save_path': 'data/spider/nl2code,output_from=true,fs=2,emb=bert,cvlink'}}\n",
            "Loading model from logdir/bert_run/bs=6,lr=7.4e-04,bert_lr=3.0e-06,end_lr=0e0,att=1/model_checkpoint-00035300\n",
            "DB connections: 100% 166/166 [00:13<00:00, 12.76it/s]\n",
            "100% 1034/1034 [04:02<00:00,  4.26it/s]\n",
            "DB connections: 100% 166/166 [00:00<00:00, 371.56it/s]\n",
            "Wrote eval results to logdir/bert_run/bs=6,lr=7.4e-04,bert_lr=3.0e-06,end_lr=0e0,att=1/ie_dirs/bert_run_true_1-step26300.eval35300\n",
            "35300 0.6827852998065764\n",
            "Output file logdir/bert_run/bs=6,lr=7.4e-04,bert_lr=3.0e-06,end_lr=0e0,att=1/ie_dirs/bert_run_true_1-step26300.infer36300 already exists\n"
          ],
          "name": "stdout"
        }
      ]
    },
    {
      "cell_type": "code",
      "metadata": {
        "id": "sVJi1069BluE"
      },
      "source": [
        "!pip install torch==1.6.0+cu101 torchvision==0.7.0+cu101 -f https://download.pytorch.org/whl/torch_stable.html"
      ],
      "execution_count": null,
      "outputs": []
    },
    {
      "cell_type": "code",
      "metadata": {
        "id": "QL-k_vlUhcDq",
        "colab": {
          "base_uri": "https://localhost:8080/",
          "height": 33
        },
        "outputId": "a437947f-9f0c-4ef4-c1a9-4083ad9d24eb"
      },
      "source": [
        "import sqlite3\n",
        "\n",
        "sqlite3.connect(\"/content/rat-sql/data/spider/database/academic/academic.sqlite\")"
      ],
      "execution_count": null,
      "outputs": [
        {
          "output_type": "execute_result",
          "data": {
            "text/plain": [
              "<sqlite3.Connection at 0x7f22099a6570>"
            ]
          },
          "metadata": {
            "tags": []
          },
          "execution_count": 18
        }
      ]
    },
    {
      "cell_type": "code",
      "metadata": {
        "id": "OIbxhMs_khlG"
      },
      "source": [
        "!du -h /content/rat-sql"
      ],
      "execution_count": null,
      "outputs": []
    },
    {
      "cell_type": "code",
      "metadata": {
        "id": "3KY3CmnqUbRG"
      },
      "source": [
        "import torch\r\n",
        "import os \r\n",
        "os.chdir(\"/content/rat-sql\")"
      ],
      "execution_count": null,
      "outputs": []
    },
    {
      "cell_type": "code",
      "metadata": {
        "colab": {
          "base_uri": "https://localhost:8080/"
        },
        "id": "dOI_qqpBYNTM",
        "outputId": "a9af1433-59c0-4e6d-a01b-e3631f771d17"
      },
      "source": [
        "!pip install torchtext==0.7"
      ],
      "execution_count": null,
      "outputs": [
        {
          "output_type": "stream",
          "text": [
            "Collecting torchtext==0.7\n",
            "\u001b[?25l  Downloading https://files.pythonhosted.org/packages/72/6d/a6f757ab75c57868a7ae0e839d631f3384e7e992216bd8cb21739358b5b1/torchtext-0.7.0-cp37-cp37m-manylinux1_x86_64.whl (4.5MB)\n",
            "\u001b[K    100% |████████████████████████████████| 4.5MB 10.7MB/s \n",
            "\u001b[?25hRequirement already satisfied: tqdm in /usr/local/lib/python3.7/site-packages (from torchtext==0.7) (4.54.1)\n",
            "Requirement already satisfied: sentencepiece in /usr/local/lib/python3.7/site-packages (from torchtext==0.7) (0.1.94)\n",
            "Requirement already satisfied: requests in /usr/local/lib/python3.7/site-packages (from torchtext==0.7) (2.21.0)\n",
            "Requirement already satisfied: torch in /usr/local/lib/python3.7/site-packages (from torchtext==0.7) (1.6.0+cu101)\n",
            "Requirement already satisfied: numpy in /usr/local/lib/python3.7/site-packages (from torchtext==0.7) (1.19.4)\n",
            "Requirement already satisfied: chardet<3.1.0,>=3.0.2 in /usr/local/lib/python3.7/site-packages (from requests->torchtext==0.7) (3.0.4)\n",
            "Requirement already satisfied: certifi>=2017.4.17 in /usr/local/lib/python3.7/site-packages (from requests->torchtext==0.7) (2018.11.29)\n",
            "Requirement already satisfied: idna<2.9,>=2.5 in /usr/local/lib/python3.7/site-packages (from requests->torchtext==0.7) (2.8)\n",
            "Requirement already satisfied: urllib3<1.25,>=1.21.1 in /usr/local/lib/python3.7/site-packages (from requests->torchtext==0.7) (1.24.1)\n",
            "Requirement already satisfied: future in /usr/local/lib/python3.7/site-packages (from torch->torchtext==0.7) (0.18.2)\n",
            "Installing collected packages: torchtext\n",
            "Successfully installed torchtext-0.7.0\n"
          ],
          "name": "stdout"
        }
      ]
    },
    {
      "cell_type": "code",
      "metadata": {
        "colab": {
          "base_uri": "https://localhost:8080/",
          "height": 128
        },
        "id": "wtpEVBjTaK0g",
        "outputId": "a3d8d2c2-4029-4408-8c98-28b60a6f9a7d"
      },
      "source": [
        "import json\r\n",
        "import os\r\n",
        "import _jsonnet\r\n",
        "from ratsql.commands.infer import Inferer\r\n",
        "from ratsql.datasets.spider import SpiderItem\r\n",
        "from ratsql.utils import registry\r\n",
        "\r\n",
        "exp_config = json.loads(_jsonnet.evaluate_file(\"/content/rat-sql/experiments/spider-bert-run.jsonnet\"))\r\n",
        "model_config_path = os.path.join(root_dir, exp_config[\"model_config\"])\r\n",
        "print(model_config_path)\r\n",
        "model_config_args = exp_config.get(\"model_config_args\")\r\n",
        "infer_config = json.loads(_jsonnet.evaluate_file(\"/content/rat-sql/experiments/spider-bert-run.jsonnet\", tla_codes={'args': json.dumps(model_config_args)})\r\n",
        "\r\n",
        "inferer = Inferer(infer_config)\r\n",
        "inferer.device = torch.device(\"cuda\")\r\n",
        "model = inferer.load_model(model_dir, checkpoint_step)\r\n",
        "dataset = registry.construct('dataset', inferer.config['data']['val'])\r\n",
        "\r\n",
        "for _, schema in dataset.schemas.items():\r\n",
        "    model.preproc.enc_preproc._preprocess_schema(schema)\r\n",
        "\r\n",
        "def question(q, db_id):\r\n",
        "    spider_schema = dataset.schemas[db_id]\r\n",
        "    data_item = SpiderItem(\r\n",
        "        text=None,  # intentionally None -- should be ignored when the tokenizer is set correctly\r\n",
        "        code=None,\r\n",
        "        schema=spider_schema,\r\n",
        "        orig_schema=spider_schema.orig,\r\n",
        "        orig={\"question\": q}\r\n",
        "    )\r\n",
        "    model.preproc.clear_items()\r\n",
        "    enc_input = model.preproc.enc_preproc.preprocess_item(data_item, None)\r\n",
        "    preproc_data = enc_input, None\r\n",
        "    with torch.no_grad():\r\n",
        "        return inferer._infer_one(model, data_item, preproc_data, beam_size=1, use_heuristic=True)\r\n"
      ],
      "execution_count": null,
      "outputs": [
        {
          "output_type": "error",
          "ename": "SyntaxError",
          "evalue": "ignored",
          "traceback": [
            "\u001b[0;36m  File \u001b[0;32m\"<ipython-input-50-d5402606fd49>\"\u001b[0;36m, line \u001b[0;32m14\u001b[0m\n\u001b[0;31m    inferer = Inferer(infer_config)\u001b[0m\n\u001b[0m          ^\u001b[0m\n\u001b[0;31mSyntaxError\u001b[0m\u001b[0;31m:\u001b[0m invalid syntax\n"
          ]
        }
      ]
    },
    {
      "cell_type": "code",
      "metadata": {
        "colab": {
          "base_uri": "https://localhost:8080/"
        },
        "id": "EtsZ_rFJf2Fw",
        "outputId": "ae53dbe3-14ce-457a-a971-7d569a4b325f"
      },
      "source": [
        "!pip install colabcode"
      ],
      "execution_count": null,
      "outputs": [
        {
          "output_type": "stream",
          "text": [
            "Collecting colabcode\n",
            "  Downloading https://files.pythonhosted.org/packages/9d/4c/7981fe8975255e14fd653ddcb9670671602a3871d21f615dfe79b733837a/colabcode-0.1.1-py3-none-any.whl\n",
            "Collecting pyngrok>=5.0.0 (from colabcode)\n",
            "  Downloading https://files.pythonhosted.org/packages/ea/63/e086f165125e9bf2e71c0db2955911baaaa0af8947ab5c7b3771bdf4d4d5/pyngrok-5.0.0.tar.gz\n",
            "Collecting PyYAML (from pyngrok>=5.0.0->colabcode)\n",
            "\u001b[?25l  Downloading https://files.pythonhosted.org/packages/64/c2/b80047c7ac2478f9501676c988a5411ed5572f35d1beff9cae07d321512c/PyYAML-5.3.1.tar.gz (269kB)\n",
            "\u001b[K    100% |████████████████████████████████| 276kB 19.3MB/s \n",
            "\u001b[?25hBuilding wheels for collected packages: pyngrok, PyYAML\n",
            "  Running setup.py bdist_wheel for pyngrok ... \u001b[?25ldone\n",
            "\u001b[?25h  Stored in directory: /root/.cache/pip/wheels/95/df/23/af8dde08c3fcdc7b966adcacef48ab29aa3b0b1860df5d2b79\n",
            "  Running setup.py bdist_wheel for PyYAML ... \u001b[?25ldone\n",
            "\u001b[?25h  Stored in directory: /root/.cache/pip/wheels/a7/c1/ea/cf5bd31012e735dc1dfea3131a2d5eae7978b251083d6247bd\n",
            "Successfully built pyngrok PyYAML\n",
            "Installing collected packages: PyYAML, pyngrok, colabcode\n",
            "Successfully installed PyYAML-5.3.1 colabcode-0.1.1 pyngrok-5.0.0\n"
          ],
          "name": "stdout"
        }
      ]
    },
    {
      "cell_type": "code",
      "metadata": {
        "colab": {
          "base_uri": "https://localhost:8080/",
          "height": 600
        },
        "id": "mhW6Vk9ViRuC",
        "outputId": "6f412e70-52b4-4fc7-c75b-009b1ada65ff"
      },
      "source": [
        "\r\n",
        "!pip install colabcode\r\n",
        "from colabcode import ColabCode\r\n",
        "\r\n",
        "ColabCode()"
      ],
      "execution_count": null,
      "outputs": [
        {
          "output_type": "stream",
          "text": [
            "Uninstalling colabcode-0.1.1:\n",
            "  Would remove:\n",
            "    /usr/local/bin/colabcode\n",
            "    /usr/local/lib/python3.7/site-packages/colabcode-0.1.1.dist-info/*\n",
            "    /usr/local/lib/python3.7/site-packages/colabcode/*\n",
            "Proceed (y/n)? y\n",
            "  Successfully uninstalled colabcode-0.1.1\n",
            "Collecting colabcode\n",
            "  Using cached https://files.pythonhosted.org/packages/9d/4c/7981fe8975255e14fd653ddcb9670671602a3871d21f615dfe79b733837a/colabcode-0.1.1-py3-none-any.whl\n",
            "Requirement already satisfied: pyngrok>=5.0.0 in /usr/local/lib/python3.7/site-packages (from colabcode) (5.0.0)\n",
            "Requirement already satisfied: PyYAML in /usr/local/lib/python3.7/site-packages (from pyngrok>=5.0.0->colabcode) (5.3.1)\n",
            "Installing collected packages: colabcode\n",
            "Successfully installed colabcode-0.1.1\n"
          ],
          "name": "stdout"
        },
        {
          "output_type": "error",
          "ename": "ModuleNotFoundError",
          "evalue": "ignored",
          "traceback": [
            "\u001b[0;31m---------------------------------------------------------------------------\u001b[0m",
            "\u001b[0;31mModuleNotFoundError\u001b[0m                       Traceback (most recent call last)",
            "\u001b[0;32m<ipython-input-42-99be4c7472d6>\u001b[0m in \u001b[0;36m<module>\u001b[0;34m()\u001b[0m\n\u001b[1;32m      1\u001b[0m \u001b[0mget_ipython\u001b[0m\u001b[0;34m(\u001b[0m\u001b[0;34m)\u001b[0m\u001b[0;34m.\u001b[0m\u001b[0msystem\u001b[0m\u001b[0;34m(\u001b[0m\u001b[0;34m'pip uninstall colabcode'\u001b[0m\u001b[0;34m)\u001b[0m\u001b[0;34m\u001b[0m\u001b[0;34m\u001b[0m\u001b[0m\n\u001b[1;32m      2\u001b[0m \u001b[0mget_ipython\u001b[0m\u001b[0;34m(\u001b[0m\u001b[0;34m)\u001b[0m\u001b[0;34m.\u001b[0m\u001b[0msystem\u001b[0m\u001b[0;34m(\u001b[0m\u001b[0;34m'pip install colabcode'\u001b[0m\u001b[0;34m)\u001b[0m\u001b[0;34m\u001b[0m\u001b[0;34m\u001b[0m\u001b[0m\n\u001b[0;32m----> 3\u001b[0;31m \u001b[0;32mfrom\u001b[0m \u001b[0mcolabcode\u001b[0m \u001b[0;32mimport\u001b[0m \u001b[0mColabCode\u001b[0m\u001b[0;34m\u001b[0m\u001b[0;34m\u001b[0m\u001b[0m\n\u001b[0m\u001b[1;32m      4\u001b[0m \u001b[0;34m\u001b[0m\u001b[0m\n\u001b[1;32m      5\u001b[0m \u001b[0mColabCode\u001b[0m\u001b[0;34m(\u001b[0m\u001b[0;34m)\u001b[0m\u001b[0;34m\u001b[0m\u001b[0;34m\u001b[0m\u001b[0m\n",
            "\u001b[0;31mModuleNotFoundError\u001b[0m: No module named 'colabcode'",
            "",
            "\u001b[0;31m---------------------------------------------------------------------------\u001b[0;32m\nNOTE: If your import is failing due to a missing package, you can\nmanually install dependencies using either !pip or !apt.\n\nTo view examples of installing some common dependencies, click the\n\"Open Examples\" button below.\n\u001b[0;31m---------------------------------------------------------------------------\u001b[0m\n"
          ]
        }
      ]
    },
    {
      "cell_type": "code",
      "metadata": {
        "colab": {
          "base_uri": "https://localhost:8080/"
        },
        "id": "x0bbnI0Oi9DX",
        "outputId": "da0969e0-319d-43c5-95f2-1ed97643307e"
      },
      "source": [
        "!curl -fsSL https://code-server.dev/install.sh | sh\r\n",
        "!pip install -qqq pyngrok"
      ],
      "execution_count": null,
      "outputs": [
        {
          "output_type": "stream",
          "text": [
            "Ubuntu 18.04.5 LTS\n",
            "Installing v3.7.4 deb package from GitHub releases.\n",
            "\n",
            "+ Reusing ~/.cache/code-server/code-server_3.7.4_amd64.deb\n",
            "+ dpkg -i ~/.cache/code-server/code-server_3.7.4_amd64.deb\n",
            "(Reading database ... \r(Reading database ... 5%\r(Reading database ... 10%\r(Reading database ... 15%\r(Reading database ... 20%\r(Reading database ... 25%\r(Reading database ... 30%\r(Reading database ... 35%\r(Reading database ... 40%\r(Reading database ... 45%\r(Reading database ... 50%\r(Reading database ... 55%\r(Reading database ... 60%\r(Reading database ... 65%\r(Reading database ... 70%\r(Reading database ... 75%\r(Reading database ... 80%\r(Reading database ... 85%\r(Reading database ... 90%\r(Reading database ... 95%\r(Reading database ... 100%\r(Reading database ... 156583 files and directories currently installed.)\n",
            "Preparing to unpack .../code-server_3.7.4_amd64.deb ...\n",
            "Unpacking code-server (3.7.4) over (3.7.4) ...\n",
            "Setting up code-server (3.7.4) ...\n",
            "\n",
            "To have systemd start code-server now and restart on boot:\n",
            "  sudo systemctl enable --now code-server@$USER\n",
            "Or, if you don't want/need a background service you can run:\n",
            "  code-server\n"
          ],
          "name": "stdout"
        }
      ]
    },
    {
      "cell_type": "code",
      "metadata": {
        "colab": {
          "base_uri": "https://localhost:8080/",
          "height": 362
        },
        "id": "vf9V5r0WjMfv",
        "outputId": "3804de09-e336-4f52-aa34-37ea6a58ca92"
      },
      "source": [
        "from pyngrok import ngrok\r\n",
        "url = ngrok.connect(port=9000)\r\n",
        "print(url)\r\n",
        "\r\n",
        "!code-server --port 9000 --auth none &"
      ],
      "execution_count": null,
      "outputs": [
        {
          "output_type": "error",
          "ename": "ModuleNotFoundError",
          "evalue": "ignored",
          "traceback": [
            "\u001b[0;31m---------------------------------------------------------------------------\u001b[0m",
            "\u001b[0;31mModuleNotFoundError\u001b[0m                       Traceback (most recent call last)",
            "\u001b[0;32m<ipython-input-49-3c3f3907f9a0>\u001b[0m in \u001b[0;36m<module>\u001b[0;34m()\u001b[0m\n\u001b[0;32m----> 1\u001b[0;31m \u001b[0;32mfrom\u001b[0m \u001b[0mpyngrok\u001b[0m \u001b[0;32mimport\u001b[0m \u001b[0mngrok\u001b[0m\u001b[0;34m\u001b[0m\u001b[0;34m\u001b[0m\u001b[0m\n\u001b[0m\u001b[1;32m      2\u001b[0m \u001b[0murl\u001b[0m \u001b[0;34m=\u001b[0m \u001b[0mngrok\u001b[0m\u001b[0;34m.\u001b[0m\u001b[0mconnect\u001b[0m\u001b[0;34m(\u001b[0m\u001b[0mport\u001b[0m\u001b[0;34m=\u001b[0m\u001b[0;36m9000\u001b[0m\u001b[0;34m)\u001b[0m\u001b[0;34m\u001b[0m\u001b[0;34m\u001b[0m\u001b[0m\n\u001b[1;32m      3\u001b[0m \u001b[0mprint\u001b[0m\u001b[0;34m(\u001b[0m\u001b[0murl\u001b[0m\u001b[0;34m)\u001b[0m\u001b[0;34m\u001b[0m\u001b[0;34m\u001b[0m\u001b[0m\n\u001b[1;32m      4\u001b[0m \u001b[0;34m\u001b[0m\u001b[0m\n\u001b[1;32m      5\u001b[0m \u001b[0mget_ipython\u001b[0m\u001b[0;34m(\u001b[0m\u001b[0;34m)\u001b[0m\u001b[0;34m.\u001b[0m\u001b[0msystem\u001b[0m\u001b[0;34m(\u001b[0m\u001b[0;34m'code-server --port 9000 --auth none &'\u001b[0m\u001b[0;34m)\u001b[0m\u001b[0;34m\u001b[0m\u001b[0;34m\u001b[0m\u001b[0m\n",
            "\u001b[0;31mModuleNotFoundError\u001b[0m: No module named 'pyngrok'",
            "",
            "\u001b[0;31m---------------------------------------------------------------------------\u001b[0;32m\nNOTE: If your import is failing due to a missing package, you can\nmanually install dependencies using either !pip or !apt.\n\nTo view examples of installing some common dependencies, click the\n\"Open Examples\" button below.\n\u001b[0;31m---------------------------------------------------------------------------\u001b[0m\n"
          ]
        }
      ]
    },
    {
      "cell_type": "code",
      "metadata": {
        "colab": {
          "base_uri": "https://localhost:8080/"
        },
        "id": "ZZgvLCRpje-X",
        "outputId": "f8edd223-1775-41b0-c3fb-11471701122d"
      },
      "source": [
        "!python Infer.py"
      ],
      "execution_count": null,
      "outputs": [
        {
          "output_type": "stream",
          "text": [
            "  File \"Infer.py\", line 13\n",
            "    inferer = Inferer(infer_config)\n",
            "          ^\n",
            "SyntaxError: invalid syntax\n"
          ],
          "name": "stdout"
        }
      ]
    },
    {
      "cell_type": "code",
      "metadata": {
        "colab": {
          "base_uri": "https://localhost:8080/"
        },
        "id": "MNrCV8gEkBqN",
        "outputId": "5873cd6d-1102-465c-ca76-0ce127ec0c69"
      },
      "source": [
        "!apt install ngrok"
      ],
      "execution_count": null,
      "outputs": [
        {
          "output_type": "stream",
          "text": [
            "Reading package lists... Done\n",
            "Building dependency tree       \n",
            "Reading state information... Done\n",
            "E: Unable to locate package ngrok\n"
          ],
          "name": "stdout"
        }
      ]
    },
    {
      "cell_type": "code",
      "metadata": {
        "colab": {
          "base_uri": "https://localhost:8080/"
        },
        "id": "VtWB33_1mkb2",
        "outputId": "674a6553-18d2-4507-bbbf-c5514e0aeb08"
      },
      "source": [
        "!pip install colab-ssh"
      ],
      "execution_count": null,
      "outputs": [
        {
          "output_type": "stream",
          "text": [
            "Collecting colab-ssh\n",
            "  Downloading https://files.pythonhosted.org/packages/53/56/0166fe8c5e14938a773c1099a0af280bc680b2606c2099615a5fceea325a/colab_ssh-0.3.13-py3-none-any.whl\n",
            "Installing collected packages: colab-ssh\n",
            "Successfully installed colab-ssh-0.3.13\n"
          ],
          "name": "stdout"
        }
      ]
    },
    {
      "cell_type": "code",
      "metadata": {
        "colab": {
          "base_uri": "https://localhost:8080/",
          "height": 312
        },
        "id": "bvk63-9_nWNE",
        "outputId": "d325f06d-8c5e-47ff-8dd8-9723a1f9e08b"
      },
      "source": [
        "from colab_ssh import launch_ssh_cloudflared, init_git_cloudflared\r\n",
        "launch_ssh_cloudflared(\"node\")"
      ],
      "execution_count": null,
      "outputs": [
        {
          "output_type": "error",
          "ename": "ModuleNotFoundError",
          "evalue": "ignored",
          "traceback": [
            "\u001b[0;31m---------------------------------------------------------------------------\u001b[0m",
            "\u001b[0;31mModuleNotFoundError\u001b[0m                       Traceback (most recent call last)",
            "\u001b[0;32m<ipython-input-59-5d1f594c5d87>\u001b[0m in \u001b[0;36m<module>\u001b[0;34m()\u001b[0m\n\u001b[0;32m----> 1\u001b[0;31m \u001b[0;32mfrom\u001b[0m \u001b[0mcolab_ssh\u001b[0m \u001b[0;32mimport\u001b[0m \u001b[0mlaunch_ssh_cloudflared\u001b[0m\u001b[0;34m,\u001b[0m \u001b[0minit_git_cloudflared\u001b[0m\u001b[0;34m\u001b[0m\u001b[0;34m\u001b[0m\u001b[0m\n\u001b[0m\u001b[1;32m      2\u001b[0m \u001b[0mlaunch_ssh_cloudflared\u001b[0m\u001b[0;34m(\u001b[0m\u001b[0;34m\"node\"\u001b[0m\u001b[0;34m)\u001b[0m\u001b[0;34m\u001b[0m\u001b[0;34m\u001b[0m\u001b[0m\n",
            "\u001b[0;31mModuleNotFoundError\u001b[0m: No module named 'colab_ssh'",
            "",
            "\u001b[0;31m---------------------------------------------------------------------------\u001b[0;32m\nNOTE: If your import is failing due to a missing package, you can\nmanually install dependencies using either !pip or !apt.\n\nTo view examples of installing some common dependencies, click the\n\"Open Examples\" button below.\n\u001b[0;31m---------------------------------------------------------------------------\u001b[0m\n"
          ]
        }
      ]
    },
    {
      "cell_type": "code",
      "metadata": {
        "id": "0Recdg-3nb8h"
      },
      "source": [
        ""
      ],
      "execution_count": null,
      "outputs": []
    }
  ]
}